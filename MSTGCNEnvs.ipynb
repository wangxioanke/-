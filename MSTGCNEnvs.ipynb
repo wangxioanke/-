{
  "nbformat": 4,
  "nbformat_minor": 0,
  "metadata": {
    "colab": {
      "name": "MSTGCNEnvs.ipynb",
      "provenance": [],
      "mount_file_id": "1akjG18fHUZaMnw5soDbFV-_mXgrZDo4L",
      "authorship_tag": "ABX9TyPXgtye53imEuQR7acn6e78",
      "include_colab_link": true
    },
    "kernelspec": {
      "name": "python3",
      "display_name": "Python 3"
    },
    "language_info": {
      "name": "python"
    },
    "accelerator": "GPU"
  },
  "cells": [
    {
      "cell_type": "markdown",
      "metadata": {
        "id": "view-in-github",
        "colab_type": "text"
      },
      "source": [
        "<a href=\"https://colab.research.google.com/github/wangxioanke/-/blob/main/MSTGCNEnvs.ipynb\" target=\"_parent\"><img src=\"https://colab.research.google.com/assets/colab-badge.svg\" alt=\"Open In Colab\"/></a>"
      ]
    },
    {
      "cell_type": "code",
      "execution_count": 1,
      "metadata": {
        "colab": {
          "base_uri": "https://localhost:8080/"
        },
        "id": "kJrApVX0EuI4",
        "outputId": "e8bae78e-08c0-4b31-f6f1-4be9bf6c8cdb"
      },
      "outputs": [
        {
          "output_type": "stream",
          "name": "stdout",
          "text": [
            "8005\n"
          ]
        }
      ],
      "source": [
        "import torch\n",
        "print(torch.backends.cudnn.version())"
      ]
    },
    {
      "cell_type": "code",
      "source": [
        "!wget https://repo.anaconda.com/miniconda/Miniconda3-py39_4.9.2-Linux-x86_64.sh"
      ],
      "metadata": {
        "colab": {
          "base_uri": "https://localhost:8080/"
        },
        "id": "P8_Pf9Q7L6GD",
        "outputId": "6c4b1350-de6b-4d5a-c475-625e5a6b9fc3"
      },
      "execution_count": 10,
      "outputs": [
        {
          "output_type": "stream",
          "name": "stdout",
          "text": [
            "--2022-04-12 09:51:48--  https://repo.anaconda.com/miniconda/Miniconda3-py39_4.9.2-Linux-x86_64.sh\n",
            "Resolving repo.anaconda.com (repo.anaconda.com)... 104.16.130.3, 104.16.131.3, 2606:4700::6810:8303, ...\n",
            "Connecting to repo.anaconda.com (repo.anaconda.com)|104.16.130.3|:443... connected.\n",
            "HTTP request sent, awaiting response... 200 OK\n",
            "Length: 61451533 (59M) [application/x-sh]\n",
            "Saving to: ‘Miniconda3-py39_4.9.2-Linux-x86_64.sh’\n",
            "\n",
            "Miniconda3-py39_4.9 100%[===================>]  58.60M   224MB/s    in 0.3s    \n",
            "\n",
            "2022-04-12 09:51:48 (224 MB/s) - ‘Miniconda3-py39_4.9.2-Linux-x86_64.sh’ saved [61451533/61451533]\n",
            "\n"
          ]
        }
      ]
    },
    {
      "cell_type": "code",
      "source": [
        "!bash Miniconda3-py39_4.9.2-Linux-x86_64.sh"
      ],
      "metadata": {
        "colab": {
          "base_uri": "https://localhost:8080/"
        },
        "id": "AsYBPZF0L99p",
        "outputId": "3a6b2888-47d4-4eca-deaa-bcfbf7992e4f"
      },
      "execution_count": 13,
      "outputs": [
        {
          "output_type": "stream",
          "name": "stdout",
          "text": [
            "\n",
            "Welcome to Miniconda3 py39_4.9.2\n",
            "\n",
            "In order to continue the installation process, please review the license\n",
            "agreement.\n",
            "Please, press ENTER to continue\n",
            ">>> \n",
            "===================================\n",
            "End User License Agreement - Anaconda Individual Edition\n",
            "===================================\n",
            "\n",
            "Copyright 2015-2020, Anaconda, Inc.\n",
            "\n",
            "All rights reserved under the 3-clause BSD License:\n",
            "\n",
            "This End User License Agreement (the \"Agreement\") is a legal agreement between y\n",
            "ou and Anaconda, Inc. (\"Anaconda\") and governs your use of Anaconda Individual E\n",
            "dition (which was formerly known as Anaconda Distribution).\n",
            "\n",
            "Subject to the terms of this Agreement, Anaconda hereby grants you a non-exclusi\n",
            "ve, non-transferable license to:\n",
            "\n",
            "  * Install and use the Anaconda Individual Edition (which was formerly known as\n",
            " Anaconda Distribution),\n",
            "  * Modify and create derivative works of sample source code delivered in Anacon\n",
            "da Individual Edition from Anaconda's repository; and\n",
            "  * Redistribute code files in source (if provided to you by Anaconda as source)\n",
            " and binary forms, with or without modification subject to the requirements set \n",
            "forth below.\n",
            "\n",
            "Anaconda may, at its option, make available patches, workarounds or other update\n",
            "s to Anaconda Individual Edition. Unless the updates are provided with their sep\n",
            "arate governing terms, they are deemed part of Anaconda Individual Edition licen\n",
            "sed to you as provided in this Agreement.  This Agreement does not entitle you t\n",
            "o any support for Anaconda Individual Edition.\n",
            "\u001b[K\n",
            "Anaconda reserves all rights not expressly granted to you in this Agreement.\n",
            "\u001b[K\n",
            "Redistribution and use in source and binary forms, with or without modification,\n",
            " are permitted provided that the following conditions are met:\n",
            "\u001b[K\n",
            "  * Redistributions of source code must retain the above copyright notice, this \n",
            "list of conditions and the following disclaimer.\n",
            "  * Redistributions in binary form must reproduce the above copyright notice, th\n",
            "is list of conditions and the following disclaimer in the documentation and/or o\n",
            "ther materials provided with the distribution.\n",
            "  * Neither the name of Anaconda nor the names of its contributors may be used t\n",
            "o endorse or promote products derived from this software without specific prior \n",
            "written permission.\n",
            "\u001b[K\n",
            "You acknowledge that, as between you and Anaconda, Anaconda owns all right, titl\n",
            "e, and interest, including all intellectual property rights, in and to Anaconda \n",
            "Individual Edition and, with respect to third-party products distributed with or\n",
            " through Anaconda Individual Edition, the applicable third-party licensors own a\n",
            "ll right, title and interest, including all intellectual property rights, in and\n",
            " to such products.  If you send or transmit any communications or materials to A\n",
            "naconda suggesting or recommending changes to the software or documentation, inc\n",
            "luding without limitation, new features or functionality relating thereto, or an\n",
            "y comments, questions, suggestions or the like (\"Feedback\"), Anaconda is free to\n",
            " use such Feedback. You hereby assign to Anaconda all right, title, and interest\n",
            " in, and Anaconda is free to use, without any attribution or compensation to any\n",
            " party, any ideas, know-how, concepts, techniques or other intellectual property\n",
            " rights contained in the Feedback, for any purpose whatsoever, although Anaconda\n",
            " is not required to use any Feedback.\n",
            "\u001b[K\n",
            "THIS SOFTWARE IS PROVIDED BY ANACONDA AND ITS CONTRIBUTORS \"AS IS\" AND ANY EXPRE\n",
            "SS OR IMPLIED WARRANTIES, INCLUDING, BUT NOT LIMITED TO, THE IMPLIED WARRANTIES \n",
            "OF MERCHANTABILITY AND FITNESS FOR A PARTICULAR PURPOSE ARE DISCLAIMED. IN NO EV\n",
            "ENT SHALL ANACONDA BE LIABLE FOR ANY DIRECT, INDIRECT, INCIDENTAL, SPECIAL, EXEM\n",
            "PLARY, OR CONSEQUENTIAL DAMAGES (INCLUDING, BUT NOT LIMITED TO, PROCUREMENT OF S\n",
            "UBSTITUTE GOODS OR SERVICES; LOSS OF USE, DATA, OR PROFITS; OR BUSINESS INTERRUP\n",
            "TION) HOWEVER CAUSED AND ON ANY THEORY OF LIABILITY, WHETHER IN CONTRACT, STRICT\n",
            " LIABILITY, OR TORT (INCLUDING NEGLIGENCE OR OTHERWISE) ARISING IN ANY WAY OUT O\n",
            "F THE USE OF THIS SOFTWARE, EVEN IF ADVISED OF THE POSSIBILITY OF SUCH DAMAGE.\n",
            "\u001b[K\n",
            "\u001b[K\n",
            "...skipping 1 line\n",
            "\n",
            "If you want to terminate this Agreement, you may do so by discontinuing use of A\n",
            "naconda Individual Edition.  Anaconda may, at any time, terminate this Agreement\n",
            " and the license granted hereunder if you fail to comply with any term of this A\n",
            "greement.   Upon any termination of this Agreement, you agree to promptly discon\n",
            "tinue use of the Anaconda Individual Edition and destroy all copies in your poss\n",
            "ession or control. Upon any termination of this Agreement all provisions survive\n",
            " except for the licenses granted to you.\n",
            "\n",
            "This Agreement is governed by and construed in accordance with the internal laws\n",
            " of the State of Texas without giving effect to any choice or conflict of law pr\n",
            "ovision or rule that would require or permit the application of the laws of any \n",
            "jurisdiction other than those of the State of Texas. Any legal suit, action, or \n",
            "proceeding arising out of or related to this Agreement or the licenses granted h\n",
            "ereunder by you must be instituted exclusively in the federal courts of the Unit\n",
            "ed States or the courts of the State of Texas in each case located in Travis Cou\n",
            "nty, Texas, and you irrevocably submit to the jurisdiction of such courts in any\n",
            " such suit, action, or proceeding.\n",
            "\n",
            "\n",
            "Notice of Third Party Software Licenses\n",
            "=======================================\n",
            "\n",
            "Anaconda Individual Edition provides access to a repository which contains softw\n",
            "are packages or tools licensed on an open source basis from third parties and bi\n",
            "nary packages of these third party tools. These third party software packages or\n",
            " tools are provided on an \"as is\" basis and are subject to their respective lice\n",
            "nse agreements as well as this Agreement and the Terms of Service for the Reposi\n",
            "tory located at https://know.anaconda.com/TOS.html; provided, however, no restri\n",
            "ction contained in the Terms of Service shall be construed so as to limit your a\n",
            "bility to download the packages contained in Anaconda Individual Edition provide\n",
            "d you comply with the license for each such package.  These licenses may be acce\n",
            "ssed from within the Anaconda Individual Edition software or at https://docs.ana\n",
            "conda.com/anaconda/pkg-docs. Information regarding which license is applicable i\n",
            "s available from within many of the third party software packages and tools and \n",
            "at https://repo.anaconda.com/pkgs/main/ and https://repo.anaconda.com/pkgs/r/. A\n",
            "naconda reserves the right, in its sole discretion, to change which third party \n",
            "tools are included in the repository accessible through Anaconda Individual Edit\n",
            "ion.\u001b[K\n",
            "\u001b[K\n",
            "Intel Math Kernel Library\n",
            "-------------------------\n",
            "\u001b[K\n",
            "Anaconda Individual Edition provides access to re-distributable, run-time, share\n",
            "d-library files from the Intel Math Kernel Library (\"MKL binaries\").\n",
            "\u001b[K\n",
            "Copyright 2018 Intel Corporation.  License available at https://software.intel.c\n",
            "om/en-us/license/intel-simplified-software-license (the \"MKL License\").\n",
            "\u001b[K\n",
            "You may use and redistribute the MKL binaries, without modification, provided th\n",
            "e following conditions are met:\n",
            "\u001b[K\n",
            "  * Redistributions must reproduce the above copyright notice and the following \n",
            "terms of use in the MKL binaries and in the documentation and/or other materials\n",
            " provided with the distribution.\n",
            "  * Neither the name of Intel nor the names of its suppliers may be used to endo\n",
            "rse or promote products derived from the MKL binaries without specific prior wri\n",
            "tten permission.\n",
            "  * No reverse engineering, decompilation, or disassembly of the MKL binaries is\n",
            " permitted.\n",
            "\u001b[K\n",
            "You are specifically authorized to use and redistribute the MKL binaries with yo\n",
            "ur installation of Anaconda Individual Edition subject to the terms set forth in\n",
            " the MKL License. You are also authorized to redistribute the MKL binaries with \n",
            "Anaconda Individual Edition or in the Anaconda package that contains the MKL bin\n",
            "aries. If needed, instructions for removing the MKL binaries after installation \n",
            "of Anaconda Individual Edition are available at https://docs.anaconda.com.\n",
            "\u001b[K\n",
            "cuDNN Software\n",
            "--------------\n",
            "\u001b[K\n",
            "Anaconda Individual Edition also provides access to cuDNN software binaries (\"cu\n",
            "DNN binaries\") from NVIDIA Corporation. You are specifically authorized to use t\n",
            "he cuDNN binaries with your installation of Anaconda Individual Edition subject \n",
            "to your compliance with the license agreement located at https://docs.nvidia.com\n",
            "/deeplearning/sdk/cudnn-sla/index.html. You are also authorized to redistribute \n",
            "the cuDNN binaries with an Anaconda Individual Edition package that contains the\n",
            " cuDNN binaries. You can add or remove the cuDNN binaries utilizing the install \n",
            "and uninstall features in Anaconda Individual Edition.\n",
            "\u001b[K\n",
            "cuDNN binaries contain source code provided by NVIDIA Corporation.\n",
            "\u001b[K\n",
            "\u001b[K\n",
            "Export; Cryptography Notice\n",
            "===========================\n",
            "\u001b[K\n",
            "You must comply with all domestic and international export laws and regulations \n",
            "that apply to the software, which include restrictions on destinations, end user\n",
            "s, and end use.  Anaconda Individual Edition includes cryptographic software. Th\n",
            "e country in which you currently reside may have restrictions on the import, pos\n",
            "session, use, and/or re-export to another country, of encryption software. BEFOR\n",
            "E using any encryption software, please check your country's laws, regulations a\n",
            "nd policies concerning the import, possession, or use, and re-export of encrypti\n",
            "on software, to see if this is permitted. See the Wassenaar Arrangement http://w\n",
            "ww.wassenaar.org/ for more information.\n",
            "\u001b[K\n",
            "Anaconda has self-classified this software as Export Commodity Control Number (E\n",
            "CCN) 5D992.c, which includes mass market information security software using or \n",
            "performing cryptographic functions with asymmetric algorithms. No license is req\n",
            "uired for export of this software to non-embargoed countries.\n",
            "\u001b[K\n",
            "The Intel Math Kernel Library contained in Anaconda Individual Edition is classi\n",
            "fied by Intel as ECCN 5D992.c with no license required for export to non-embargo\n",
            "ed countries.\n",
            "\u001b[K\n",
            "The following packages are included in the repository accessible through Anacond\n",
            "a Individual Edition that relate to cryptography:\n",
            "\u001b[K\n",
            "openssl\u001b[K\n",
            "    The OpenSSL Project is a collaborative effort to develop a robust, commercia\n",
            "l-grade, full-featured, and Open Source toolkit implementing the Transport Layer\n",
            " Security (TLS) and Secure Sockets Layer (SSL) protocols as well as a full-stren\n",
            "gth general purpose cryptography library.\n",
            "\u001b[K\n",
            "pycrypto\n",
            "    A collection of both secure hash functions (such as SHA256 and RIPEMD160), a\n",
            "nd various encryption algorithms (AES, DES, RSA, ElGamal, etc.).\n",
            "\u001b[K\n",
            "pyopenssl\n",
            "    A thin Python wrapper around (a subset of) the OpenSSL library.\n",
            "\u001b[K\n",
            "kerberos (krb5, non-Windows platforms)\n",
            "    A network authentication protocol designed to provide strong authentication \n",
            "for client/server applications by using secret-key cryptography.\n",
            "\u001b[K\n",
            "cryptography\n",
            "    A Python library which exposes cryptographic recipes and primitives.\n",
            "\u001b[K\n",
            "pycryptodome\n",
            "    A fork of PyCrypto. It is a self-contained Python package of low-level crypt\n",
            "ographic primitives.\n",
            "\u001b[K\n",
            "pycryptodomex\n",
            "    A stand-alone version of pycryptodome.\n",
            "\u001b[K\n",
            "libsodium\n",
            "    A software library for encryption, decryption, signatures, password hashing \n",
            "and more.\n",
            "\u001b[K\n",
            "pynacl\u001b[K\n",
            "    A Python binding to the Networking and Cryptography library, a crypto librar\n",
            "y with the stated goal of improving usability, security and speed.\n",
            "\n",
            "\n",
            "Last updated September 28, 2020\n",
            "\n",
            "\n",
            "Do you accept the license terms? [yes|no]\n",
            "[no] >>> Please answer 'yes' or 'no':'\n",
            ">>> yes\n",
            "\n",
            "Miniconda3 will now be installed into this location:\n",
            "/root/miniconda3\n",
            "\n",
            "  - Press ENTER to confirm the location\n",
            "  - Press CTRL-C to abort the installation\n",
            "  - Or specify a different location below\n",
            "\n",
            "[/root/miniconda3] >>> \n",
            "PREFIX=/root/miniconda3\n",
            "Unpacking payload ...\n",
            "Collecting package metadata (current_repodata.json): - \b\b\\ \b\b| \b\bdone\n",
            "Solving environment: - \b\b\\ \b\b| \b\bdone\n",
            "\n",
            "## Package Plan ##\n",
            "\n",
            "  environment location: /root/miniconda3\n",
            "\n",
            "  added / updated specs:\n",
            "    - _libgcc_mutex==0.1=main\n",
            "    - brotlipy==0.7.0=py39h27cfd23_1003\n",
            "    - ca-certificates==2020.12.8=h06a4308_0\n",
            "    - certifi==2020.12.5=py39h06a4308_0\n",
            "    - cffi==1.14.4=py39h261ae71_0\n",
            "    - chardet==3.0.4=py39h06a4308_1003\n",
            "    - conda-package-handling==1.7.2=py39h27cfd23_1\n",
            "    - conda==4.9.2=py39h06a4308_0\n",
            "    - cryptography==3.3.1=py39h3c74f83_0\n",
            "    - idna==2.10=py_0\n",
            "    - ld_impl_linux-64==2.33.1=h53a641e_7\n",
            "    - libedit==3.1.20191231=h14c3975_1\n",
            "    - libffi==3.3=he6710b0_2\n",
            "    - libgcc-ng==9.1.0=hdf63c60_0\n",
            "    - libstdcxx-ng==9.1.0=hdf63c60_0\n",
            "    - ncurses==6.2=he6710b0_1\n",
            "    - openssl==1.1.1i=h27cfd23_0\n",
            "    - pip==20.3.1=py39h06a4308_0\n",
            "    - pycosat==0.6.3=py39h27cfd23_0\n",
            "    - pycparser==2.20=py_2\n",
            "    - pyopenssl==20.0.0=pyhd3eb1b0_1\n",
            "    - pysocks==1.7.1=py39h06a4308_0\n",
            "    - python==3.9.1=hdb3f193_2\n",
            "    - readline==8.0=h7b6447c_0\n",
            "    - requests==2.25.0=pyhd3eb1b0_0\n",
            "    - ruamel_yaml==0.15.80=py39h27cfd23_0\n",
            "    - setuptools==51.0.0=py39h06a4308_2\n",
            "    - six==1.15.0=py39h06a4308_0\n",
            "    - sqlite==3.33.0=h62c20be_0\n",
            "    - tk==8.6.10=hbc83047_0\n",
            "    - tqdm==4.54.1=pyhd3eb1b0_0\n",
            "    - tzdata==2020d=h14c3975_0\n",
            "    - urllib3==1.25.11=py_0\n",
            "    - wheel==0.36.1=pyhd3eb1b0_0\n",
            "    - xz==5.2.5=h7b6447c_0\n",
            "    - yaml==0.2.5=h7b6447c_0\n",
            "    - zlib==1.2.11=h7b6447c_3\n",
            "\n",
            "\n",
            "The following NEW packages will be INSTALLED:\n",
            "\n",
            "  _libgcc_mutex      pkgs/main/linux-64::_libgcc_mutex-0.1-main\n",
            "  brotlipy           pkgs/main/linux-64::brotlipy-0.7.0-py39h27cfd23_1003\n",
            "  ca-certificates    pkgs/main/linux-64::ca-certificates-2020.12.8-h06a4308_0\n",
            "  certifi            pkgs/main/linux-64::certifi-2020.12.5-py39h06a4308_0\n",
            "  cffi               pkgs/main/linux-64::cffi-1.14.4-py39h261ae71_0\n",
            "  chardet            pkgs/main/linux-64::chardet-3.0.4-py39h06a4308_1003\n",
            "  conda              pkgs/main/linux-64::conda-4.9.2-py39h06a4308_0\n",
            "  conda-package-han~ pkgs/main/linux-64::conda-package-handling-1.7.2-py39h27cfd23_1\n",
            "  cryptography       pkgs/main/linux-64::cryptography-3.3.1-py39h3c74f83_0\n",
            "  idna               pkgs/main/noarch::idna-2.10-py_0\n",
            "  ld_impl_linux-64   pkgs/main/linux-64::ld_impl_linux-64-2.33.1-h53a641e_7\n",
            "  libedit            pkgs/main/linux-64::libedit-3.1.20191231-h14c3975_1\n",
            "  libffi             pkgs/main/linux-64::libffi-3.3-he6710b0_2\n",
            "  libgcc-ng          pkgs/main/linux-64::libgcc-ng-9.1.0-hdf63c60_0\n",
            "  libstdcxx-ng       pkgs/main/linux-64::libstdcxx-ng-9.1.0-hdf63c60_0\n",
            "  ncurses            pkgs/main/linux-64::ncurses-6.2-he6710b0_1\n",
            "  openssl            pkgs/main/linux-64::openssl-1.1.1i-h27cfd23_0\n",
            "  pip                pkgs/main/linux-64::pip-20.3.1-py39h06a4308_0\n",
            "  pycosat            pkgs/main/linux-64::pycosat-0.6.3-py39h27cfd23_0\n",
            "  pycparser          pkgs/main/noarch::pycparser-2.20-py_2\n",
            "  pyopenssl          pkgs/main/noarch::pyopenssl-20.0.0-pyhd3eb1b0_1\n",
            "  pysocks            pkgs/main/linux-64::pysocks-1.7.1-py39h06a4308_0\n",
            "  python             pkgs/main/linux-64::python-3.9.1-hdb3f193_2\n",
            "  readline           pkgs/main/linux-64::readline-8.0-h7b6447c_0\n",
            "  requests           pkgs/main/noarch::requests-2.25.0-pyhd3eb1b0_0\n",
            "  ruamel_yaml        pkgs/main/linux-64::ruamel_yaml-0.15.80-py39h27cfd23_0\n",
            "  setuptools         pkgs/main/linux-64::setuptools-51.0.0-py39h06a4308_2\n",
            "  six                pkgs/main/linux-64::six-1.15.0-py39h06a4308_0\n",
            "  sqlite             pkgs/main/linux-64::sqlite-3.33.0-h62c20be_0\n",
            "  tk                 pkgs/main/linux-64::tk-8.6.10-hbc83047_0\n",
            "  tqdm               pkgs/main/noarch::tqdm-4.54.1-pyhd3eb1b0_0\n",
            "  tzdata             pkgs/main/noarch::tzdata-2020d-h14c3975_0\n",
            "  urllib3            pkgs/main/noarch::urllib3-1.25.11-py_0\n",
            "  wheel              pkgs/main/noarch::wheel-0.36.1-pyhd3eb1b0_0\n",
            "  xz                 pkgs/main/linux-64::xz-5.2.5-h7b6447c_0\n",
            "  yaml               pkgs/main/linux-64::yaml-0.2.5-h7b6447c_0\n",
            "  zlib               pkgs/main/linux-64::zlib-1.2.11-h7b6447c_3\n",
            "\n",
            "\n",
            "Preparing transaction: - \b\b\\ \b\b| \b\b/ \b\bdone\n",
            "Executing transaction: \\ \b\b| \b\b/ \b\b- \b\b\\ \b\b| \b\b/ \b\b- \b\b\\ \b\b| \b\b/ \b\b- \b\b\\ \b\b| \b\b/ \b\b- \b\bdone\n",
            "installation finished.\n",
            "WARNING:\n",
            "    You currently have a PYTHONPATH environment variable set. This may cause\n",
            "    unexpected behavior when running the Python interpreter in Miniconda3.\n",
            "    For best results, please verify that your PYTHONPATH only points to\n",
            "    directories of packages that are compatible with the Python interpreter\n",
            "    in Miniconda3: /root/miniconda3\n",
            "Do you wish the installer to initialize Miniconda3\n",
            "by running conda init? [yes|no]\n",
            "[no] >>> \n",
            "\n",
            "You have chosen to not have conda modify your shell scripts at all.\n",
            "To activate conda's base environment in your current shell session:\n",
            "\n",
            "eval \"$(/root/miniconda3/bin/conda shell.YOUR_SHELL_NAME hook)\" \n",
            "\n",
            "To install conda's shell functions for easier access, first activate, then:\n",
            "\n",
            "conda init\n",
            "\n",
            "If you'd prefer that conda's base environment not be activated on startup, \n",
            "   set the auto_activate_base parameter to false: \n",
            "\n",
            "conda config --set auto_activate_base false\n",
            "\n",
            "Thank you for installing Miniconda3!\n"
          ]
        }
      ]
    },
    {
      "cell_type": "code",
      "source": [
        "cd /root/miniconda3/bin"
      ],
      "metadata": {
        "colab": {
          "base_uri": "https://localhost:8080/"
        },
        "id": "26I63gNfMW_j",
        "outputId": "5688b3b5-9887-4134-a354-21942217f9fc"
      },
      "execution_count": 17,
      "outputs": [
        {
          "output_type": "stream",
          "name": "stdout",
          "text": [
            "/root/miniconda3/bin\n"
          ]
        }
      ]
    },
    {
      "cell_type": "code",
      "source": [
        "%%bash\n",
        "./conda create -n py36 python=3.6"
      ],
      "metadata": {
        "colab": {
          "base_uri": "https://localhost:8080/"
        },
        "id": "gNlGsaJKMsIS",
        "outputId": "14265a56-9c3b-4f0f-8f58-bdf092bf0d33"
      },
      "execution_count": 24,
      "outputs": [
        {
          "output_type": "stream",
          "name": "stdout",
          "text": [
            "Collecting package metadata (current_repodata.json): ...working... done\n",
            "Solving environment: ...working... done\n",
            "\n",
            "## Package Plan ##\n",
            "\n",
            "  environment location: /root/miniconda3/envs/py36\n",
            "\n",
            "  added / updated specs:\n",
            "    - python=3.6\n",
            "\n",
            "\n",
            "The following packages will be downloaded:\n",
            "\n",
            "    package                    |            build\n",
            "    ---------------------------|-----------------\n",
            "    _openmp_mutex-4.5          |            1_gnu          22 KB\n",
            "    ca-certificates-2022.3.29  |       h06a4308_0         117 KB\n",
            "    certifi-2020.6.20          |     pyhd3eb1b0_3         155 KB\n",
            "    ld_impl_linux-64-2.35.1    |       h7274673_9         586 KB\n",
            "    libgcc-ng-9.3.0            |      h5101ec6_17         4.8 MB\n",
            "    libgomp-9.3.0              |      h5101ec6_17         311 KB\n",
            "    libstdcxx-ng-9.3.0         |      hd4cf53a_17         3.1 MB\n",
            "    ncurses-6.3                |       h7f8727e_2         782 KB\n",
            "    openssl-1.1.1n             |       h7f8727e_0         2.5 MB\n",
            "    pip-21.2.2                 |   py36h06a4308_0         1.8 MB\n",
            "    python-3.6.13              |       h12debd9_1        32.5 MB\n",
            "    readline-8.1.2             |       h7f8727e_1         354 KB\n",
            "    setuptools-58.0.4          |   py36h06a4308_0         788 KB\n",
            "    sqlite-3.38.2              |       hc218d9a_0         1.0 MB\n",
            "    tk-8.6.11                  |       h1ccaba5_0         3.0 MB\n",
            "    wheel-0.37.1               |     pyhd3eb1b0_0          33 KB\n",
            "    zlib-1.2.11                |       h7f8727e_4         108 KB\n",
            "    ------------------------------------------------------------\n",
            "                                           Total:        51.9 MB\n",
            "\n",
            "The following NEW packages will be INSTALLED:\n",
            "\n",
            "  _libgcc_mutex      pkgs/main/linux-64::_libgcc_mutex-0.1-main\n",
            "  _openmp_mutex      pkgs/main/linux-64::_openmp_mutex-4.5-1_gnu\n",
            "  ca-certificates    pkgs/main/linux-64::ca-certificates-2022.3.29-h06a4308_0\n",
            "  certifi            pkgs/main/noarch::certifi-2020.6.20-pyhd3eb1b0_3\n",
            "  ld_impl_linux-64   pkgs/main/linux-64::ld_impl_linux-64-2.35.1-h7274673_9\n",
            "  libffi             pkgs/main/linux-64::libffi-3.3-he6710b0_2\n",
            "  libgcc-ng          pkgs/main/linux-64::libgcc-ng-9.3.0-h5101ec6_17\n",
            "  libgomp            pkgs/main/linux-64::libgomp-9.3.0-h5101ec6_17\n",
            "  libstdcxx-ng       pkgs/main/linux-64::libstdcxx-ng-9.3.0-hd4cf53a_17\n",
            "  ncurses            pkgs/main/linux-64::ncurses-6.3-h7f8727e_2\n",
            "  openssl            pkgs/main/linux-64::openssl-1.1.1n-h7f8727e_0\n",
            "  pip                pkgs/main/linux-64::pip-21.2.2-py36h06a4308_0\n",
            "  python             pkgs/main/linux-64::python-3.6.13-h12debd9_1\n",
            "  readline           pkgs/main/linux-64::readline-8.1.2-h7f8727e_1\n",
            "  setuptools         pkgs/main/linux-64::setuptools-58.0.4-py36h06a4308_0\n",
            "  sqlite             pkgs/main/linux-64::sqlite-3.38.2-hc218d9a_0\n",
            "  tk                 pkgs/main/linux-64::tk-8.6.11-h1ccaba5_0\n",
            "  wheel              pkgs/main/noarch::wheel-0.37.1-pyhd3eb1b0_0\n",
            "  xz                 pkgs/main/linux-64::xz-5.2.5-h7b6447c_0\n",
            "  zlib               pkgs/main/linux-64::zlib-1.2.11-h7f8727e_4\n",
            "\n",
            "\n",
            "Proceed ([y]/n)? \n",
            "\n",
            "Downloading and Extracting Packages\n",
            "\rlibgomp-9.3.0        | 311 KB    |            |   0% \rlibgomp-9.3.0        | 311 KB    | ########## | 100% \rlibgomp-9.3.0        | 311 KB    | ########## | 100% \n",
            "\rncurses-6.3          | 782 KB    |            |   0% \rncurses-6.3          | 782 KB    | ########## | 100% \rncurses-6.3          | 782 KB    | ########## | 100% \n",
            "\rpython-3.6.13        | 32.5 MB   |            |   0% \rpython-3.6.13        | 32.5 MB   | ##2        |  23% \rpython-3.6.13        | 32.5 MB   | #####6     |  56% \rpython-3.6.13        | 32.5 MB   | #######1   |  71% \rpython-3.6.13        | 32.5 MB   | ########2  |  83% \rpython-3.6.13        | 32.5 MB   | #########1 |  92% \rpython-3.6.13        | 32.5 MB   | #########9 |  99% \rpython-3.6.13        | 32.5 MB   | ########## | 100% \n",
            "\rtk-8.6.11            | 3.0 MB    |            |   0% \rtk-8.6.11            | 3.0 MB    | ########## | 100% \rtk-8.6.11            | 3.0 MB    | ########## | 100% \n",
            "\rlibgcc-ng-9.3.0      | 4.8 MB    |            |   0% \rlibgcc-ng-9.3.0      | 4.8 MB    | ########## | 100% \rlibgcc-ng-9.3.0      | 4.8 MB    | ########## | 100% \n",
            "\ropenssl-1.1.1n       | 2.5 MB    |            |   0% \ropenssl-1.1.1n       | 2.5 MB    | ########## | 100% \ropenssl-1.1.1n       | 2.5 MB    | ########## | 100% \n",
            "\rld_impl_linux-64-2.3 | 586 KB    |            |   0% \rld_impl_linux-64-2.3 | 586 KB    | ########## | 100% \n",
            "\rca-certificates-2022 | 117 KB    |            |   0% \rca-certificates-2022 | 117 KB    | ########## | 100% \n",
            "\r_openmp_mutex-4.5    | 22 KB     |            |   0% \r_openmp_mutex-4.5    | 22 KB     | ########## | 100% \n",
            "\rwheel-0.37.1         | 33 KB     |            |   0% \rwheel-0.37.1         | 33 KB     | ########## | 100% \n",
            "\rlibstdcxx-ng-9.3.0   | 3.1 MB    |            |   0% \rlibstdcxx-ng-9.3.0   | 3.1 MB    | ########## | 100% \rlibstdcxx-ng-9.3.0   | 3.1 MB    | ########## | 100% \n",
            "\rreadline-8.1.2       | 354 KB    |            |   0% \rreadline-8.1.2       | 354 KB    | ########## | 100% \n",
            "\rcertifi-2020.6.20    | 155 KB    |            |   0% \rcertifi-2020.6.20    | 155 KB    | ########## | 100% \n",
            "\rsetuptools-58.0.4    | 788 KB    |            |   0% \rsetuptools-58.0.4    | 788 KB    | ########## | 100% \n",
            "\rzlib-1.2.11          | 108 KB    |            |   0% \rzlib-1.2.11          | 108 KB    | ########## | 100% \n",
            "\rpip-21.2.2           | 1.8 MB    |            |   0% \rpip-21.2.2           | 1.8 MB    | ########## | 100% \rpip-21.2.2           | 1.8 MB    | ########## | 100% \n",
            "\rsqlite-3.38.2        | 1.0 MB    |            |   0% \rsqlite-3.38.2        | 1.0 MB    | ########## | 100% \n",
            "Preparing transaction: ...working... done\n",
            "Verifying transaction: ...working... done\n",
            "Executing transaction: ...working... done\n",
            "#\n",
            "# To activate this environment, use\n",
            "#\n",
            "#     $ conda activate py36\n",
            "#\n",
            "# To deactivate an active environment, use\n",
            "#\n",
            "#     $ conda deactivate\n",
            "\n"
          ]
        },
        {
          "output_type": "stream",
          "name": "stderr",
          "text": [
            "\n",
            "\n",
            "==> WARNING: A newer version of conda exists. <==\n",
            "  current version: 4.9.2\n",
            "  latest version: 4.12.0\n",
            "\n",
            "Please update conda by running\n",
            "\n",
            "    $ conda update -n base -c defaults conda\n",
            "\n",
            "\n"
          ]
        }
      ]
    },
    {
      "cell_type": "code",
      "source": [
        "!nvcc -V"
      ],
      "metadata": {
        "colab": {
          "base_uri": "https://localhost:8080/"
        },
        "id": "MZhg5SPEH1j8",
        "outputId": "2284d799-f70a-4fc3-a306-f11c97e5af30"
      },
      "execution_count": 5,
      "outputs": [
        {
          "output_type": "stream",
          "name": "stdout",
          "text": [
            "nvcc: NVIDIA (R) Cuda compiler driver\n",
            "Copyright (c) 2005-2019 NVIDIA Corporation\n",
            "Built on Sun_Jul_28_19:07:16_PDT_2019\n",
            "Cuda compilation tools, release 10.1, V10.1.243\n"
          ]
        }
      ]
    },
    {
      "cell_type": "code",
      "source": [
        "!mv /usr/local/cuda-10.1 /usr/local/cuda"
      ],
      "metadata": {
        "colab": {
          "base_uri": "https://localhost:8080/"
        },
        "id": "FU-uil9AISL0",
        "outputId": "f91c6d22-7f72-4485-b5f2-b48d0a699469"
      },
      "execution_count": 4,
      "outputs": [
        {
          "output_type": "stream",
          "name": "stdout",
          "text": [
            "y\n"
          ]
        }
      ]
    },
    {
      "cell_type": "code",
      "source": [
        "!nvcc -V"
      ],
      "metadata": {
        "id": "Madoq5KKIcN0"
      },
      "execution_count": null,
      "outputs": []
    },
    {
      "cell_type": "code",
      "source": [
        "import torch\n",
        "print(torch.backends.cudnn.version())"
      ],
      "metadata": {
        "colab": {
          "base_uri": "https://localhost:8080/"
        },
        "id": "2ONBFTPDIvIM",
        "outputId": "46280517-608d-45ff-d5c7-fbb2624d1e8b"
      },
      "execution_count": 7,
      "outputs": [
        {
          "output_type": "stream",
          "name": "stdout",
          "text": [
            "8005\n"
          ]
        }
      ]
    },
    {
      "cell_type": "code",
      "source": [
        "%%bash\n",
        "source activate py36 && pip install tensorflow-gpu==1.15.0"
      ],
      "metadata": {
        "colab": {
          "base_uri": "https://localhost:8080/"
        },
        "id": "FXzP0mAjLPEz",
        "outputId": "0cdb3f48-8cf6-4fc0-dcf6-c76f1dc34757"
      },
      "execution_count": 25,
      "outputs": [
        {
          "output_type": "stream",
          "name": "stdout",
          "text": [
            "Collecting tensorflow-gpu==1.15.0\n",
            "  Downloading tensorflow_gpu-1.15.0-cp36-cp36m-manylinux2010_x86_64.whl (411.5 MB)\n",
            "Collecting astor>=0.6.0\n",
            "  Downloading astor-0.8.1-py2.py3-none-any.whl (27 kB)\n",
            "Collecting gast==0.2.2\n",
            "  Downloading gast-0.2.2.tar.gz (10 kB)\n",
            "Collecting opt-einsum>=2.3.2\n",
            "  Downloading opt_einsum-3.3.0-py3-none-any.whl (65 kB)\n",
            "Collecting protobuf>=3.6.1\n",
            "  Downloading protobuf-3.19.4-cp36-cp36m-manylinux_2_17_x86_64.manylinux2014_x86_64.whl (1.1 MB)\n",
            "Collecting wrapt>=1.11.1\n",
            "  Downloading wrapt-1.14.0-cp36-cp36m-manylinux_2_5_x86_64.manylinux1_x86_64.manylinux_2_17_x86_64.manylinux2014_x86_64.whl (74 kB)\n",
            "Collecting tensorboard<1.16.0,>=1.15.0\n",
            "  Downloading tensorboard-1.15.0-py3-none-any.whl (3.8 MB)\n",
            "Collecting absl-py>=0.7.0\n",
            "  Downloading absl_py-1.0.0-py3-none-any.whl (126 kB)\n",
            "Collecting grpcio>=1.8.6\n",
            "  Downloading grpcio-1.44.0-cp36-cp36m-manylinux_2_17_x86_64.manylinux2014_x86_64.whl (4.3 MB)\n",
            "Collecting keras-preprocessing>=1.0.5\n",
            "  Downloading Keras_Preprocessing-1.1.2-py2.py3-none-any.whl (42 kB)\n",
            "Collecting tensorflow-estimator==1.15.1\n",
            "  Downloading tensorflow_estimator-1.15.1-py2.py3-none-any.whl (503 kB)\n",
            "Requirement already satisfied: wheel>=0.26 in /root/miniconda3/envs/py36/lib/python3.6/site-packages (from tensorflow-gpu==1.15.0) (0.37.1)\n",
            "Collecting termcolor>=1.1.0\n",
            "  Downloading termcolor-1.1.0.tar.gz (3.9 kB)\n",
            "Collecting numpy<2.0,>=1.16.0\n",
            "  Downloading numpy-1.19.5-cp36-cp36m-manylinux2010_x86_64.whl (14.8 MB)\n",
            "Collecting keras-applications>=1.0.8\n",
            "  Downloading Keras_Applications-1.0.8-py3-none-any.whl (50 kB)\n",
            "Collecting google-pasta>=0.1.6\n",
            "  Downloading google_pasta-0.2.0-py3-none-any.whl (57 kB)\n",
            "Collecting six>=1.10.0\n",
            "  Downloading six-1.16.0-py2.py3-none-any.whl (11 kB)\n",
            "Collecting h5py\n",
            "  Downloading h5py-3.1.0-cp36-cp36m-manylinux1_x86_64.whl (4.0 MB)\n",
            "Requirement already satisfied: setuptools>=41.0.0 in /root/miniconda3/envs/py36/lib/python3.6/site-packages (from tensorboard<1.16.0,>=1.15.0->tensorflow-gpu==1.15.0) (58.0.4)\n",
            "Collecting markdown>=2.6.8\n",
            "  Downloading Markdown-3.3.6-py3-none-any.whl (97 kB)\n",
            "Collecting werkzeug>=0.11.15\n",
            "  Downloading Werkzeug-2.0.3-py3-none-any.whl (289 kB)\n",
            "Collecting importlib-metadata>=4.4\n",
            "  Downloading importlib_metadata-4.8.3-py3-none-any.whl (17 kB)\n",
            "Collecting typing-extensions>=3.6.4\n",
            "  Downloading typing_extensions-4.1.1-py3-none-any.whl (26 kB)\n",
            "Collecting zipp>=0.5\n",
            "  Downloading zipp-3.6.0-py3-none-any.whl (5.3 kB)\n",
            "Collecting dataclasses\n",
            "  Downloading dataclasses-0.8-py3-none-any.whl (19 kB)\n",
            "Collecting cached-property\n",
            "  Downloading cached_property-1.5.2-py2.py3-none-any.whl (7.6 kB)\n",
            "Building wheels for collected packages: gast, termcolor\n",
            "  Building wheel for gast (setup.py): started\n",
            "  Building wheel for gast (setup.py): finished with status 'done'\n",
            "  Created wheel for gast: filename=gast-0.2.2-py3-none-any.whl size=7554 sha256=84f305b4b55bc92a712a3bc72d8b5f3c640813f58b2af13171ac2b6f440e99f8\n",
            "  Stored in directory: /root/.cache/pip/wheels/19/a7/b9/0740c7a3a7d1d348f04823339274b90de25fbcd217b2ee1fbe\n",
            "  Building wheel for termcolor (setup.py): started\n",
            "  Building wheel for termcolor (setup.py): finished with status 'done'\n",
            "  Created wheel for termcolor: filename=termcolor-1.1.0-py3-none-any.whl size=4848 sha256=6aa390c8246d5df2db62dfb3128491a785a43427e044972be8495c42f980a1df\n",
            "  Stored in directory: /root/.cache/pip/wheels/93/2a/eb/e58dbcbc963549ee4f065ff80a59f274cc7210b6eab962acdc\n",
            "Successfully built gast termcolor\n",
            "Installing collected packages: zipp, typing-extensions, six, numpy, importlib-metadata, dataclasses, cached-property, werkzeug, protobuf, markdown, h5py, grpcio, absl-py, wrapt, termcolor, tensorflow-estimator, tensorboard, opt-einsum, keras-preprocessing, keras-applications, google-pasta, gast, astor, tensorflow-gpu\n",
            "Successfully installed absl-py-1.0.0 astor-0.8.1 cached-property-1.5.2 dataclasses-0.8 gast-0.2.2 google-pasta-0.2.0 grpcio-1.44.0 h5py-3.1.0 importlib-metadata-4.8.3 keras-applications-1.0.8 keras-preprocessing-1.1.2 markdown-3.3.6 numpy-1.19.5 opt-einsum-3.3.0 protobuf-3.19.4 six-1.16.0 tensorboard-1.15.0 tensorflow-estimator-1.15.1 tensorflow-gpu-1.15.0 termcolor-1.1.0 typing-extensions-4.1.1 werkzeug-2.0.3 wrapt-1.14.0 zipp-3.6.0\n"
          ]
        },
        {
          "output_type": "stream",
          "name": "stderr",
          "text": [
            "WARNING: Running pip as the 'root' user can result in broken permissions and conflicting behaviour with the system package manager. It is recommended to use a virtual environment instead: https://pip.pypa.io/warnings/venv\n"
          ]
        }
      ]
    },
    {
      "cell_type": "code",
      "source": [
        "%%bash\n",
        "source activate py36 && pip list"
      ],
      "metadata": {
        "colab": {
          "base_uri": "https://localhost:8080/"
        },
        "id": "hbQGytTeLYq9",
        "outputId": "17f3d891-f3a6-4f26-db46-e710f0593ae5"
      },
      "execution_count": 26,
      "outputs": [
        {
          "output_type": "stream",
          "name": "stdout",
          "text": [
            "Package              Version\n",
            "-------------------- ---------\n",
            "absl-py              1.0.0\n",
            "astor                0.8.1\n",
            "cached-property      1.5.2\n",
            "certifi              2020.6.20\n",
            "dataclasses          0.8\n",
            "gast                 0.2.2\n",
            "google-pasta         0.2.0\n",
            "grpcio               1.44.0\n",
            "h5py                 3.1.0\n",
            "importlib-metadata   4.8.3\n",
            "Keras-Applications   1.0.8\n",
            "Keras-Preprocessing  1.1.2\n",
            "Markdown             3.3.6\n",
            "numpy                1.19.5\n",
            "opt-einsum           3.3.0\n",
            "pip                  21.2.2\n",
            "protobuf             3.19.4\n",
            "setuptools           58.0.4\n",
            "six                  1.16.0\n",
            "tensorboard          1.15.0\n",
            "tensorflow-estimator 1.15.1\n",
            "tensorflow-gpu       1.15.0\n",
            "termcolor            1.1.0\n",
            "typing_extensions    4.1.1\n",
            "Werkzeug             2.0.3\n",
            "wheel                0.37.1\n",
            "wrapt                1.14.0\n",
            "zipp                 3.6.0\n"
          ]
        }
      ]
    },
    {
      "cell_type": "code",
      "source": [
        "!cd /content/drive/MyDrive/"
      ],
      "metadata": {
        "id": "wggAIvTFQysJ"
      },
      "execution_count": 28,
      "outputs": []
    },
    {
      "cell_type": "code",
      "source": [
        "!sudo tar -zxvf /content/drive/MyDrive/cudnn-10.1-linux-x64-v7.6.5.32.tgz"
      ],
      "metadata": {
        "colab": {
          "base_uri": "https://localhost:8080/"
        },
        "id": "lAYt8i66Q8Io",
        "outputId": "e1fd5b70-16b8-45bc-fc64-0228c879ece3"
      },
      "execution_count": 31,
      "outputs": [
        {
          "output_type": "stream",
          "name": "stdout",
          "text": [
            "cuda/include/cudnn.h\n",
            "cuda/NVIDIA_SLA_cuDNN_Support.txt\n",
            "cuda/lib64/libcudnn.so\n",
            "cuda/lib64/libcudnn.so.7\n",
            "cuda/lib64/libcudnn.so.7.6.5\n",
            "cuda/lib64/libcudnn_static.a\n"
          ]
        }
      ]
    },
    {
      "cell_type": "code",
      "source": [
        "!sudo cp cuda/include/cudnn.h /usr/local/cuda/include\n",
        "!sudo cp cuda/lib64/libcudnn* /usr/local/cuda/lib64\n",
        "!sudo chmod a+r /usr/local/cuda/include/cudnn.h\n",
        "!sudo chmod a+r /usr/local/cuda/lib64/libcudnn*"
      ],
      "metadata": {
        "id": "ijD0E3gRRZSx"
      },
      "execution_count": 32,
      "outputs": []
    },
    {
      "cell_type": "code",
      "source": [
        "!cat /usr/local/cuda/include/cudnn.h | grep CUDNN_MAJOR -A 2"
      ],
      "metadata": {
        "colab": {
          "base_uri": "https://localhost:8080/"
        },
        "id": "7s9wzu4aRkf_",
        "outputId": "7084da58-6d6e-4705-bea0-1745c29f6ef1"
      },
      "execution_count": 33,
      "outputs": [
        {
          "output_type": "stream",
          "name": "stdout",
          "text": [
            "#define CUDNN_MAJOR 7\n",
            "#define CUDNN_MINOR 6\n",
            "#define CUDNN_PATCHLEVEL 5\n",
            "--\n",
            "#define CUDNN_VERSION (CUDNN_MAJOR * 1000 + CUDNN_MINOR * 100 + CUDNN_PATCHLEVEL)\n",
            "\n",
            "#include \"driver_types.h\"\n"
          ]
        }
      ]
    },
    {
      "cell_type": "code",
      "source": [
        "%%bash\n",
        "source activate py36 && pip install Keras==2.3.1"
      ],
      "metadata": {
        "colab": {
          "base_uri": "https://localhost:8080/"
        },
        "id": "amS8ZJDIRsN2",
        "outputId": "818251e3-a426-4f74-9e50-3dcab34891e1"
      },
      "execution_count": 35,
      "outputs": [
        {
          "output_type": "stream",
          "name": "stdout",
          "text": [
            "Collecting Keras==2.3.1\n",
            "  Downloading Keras-2.3.1-py2.py3-none-any.whl (377 kB)\n",
            "Requirement already satisfied: six>=1.9.0 in /root/miniconda3/envs/py36/lib/python3.6/site-packages (from Keras==2.3.1) (1.16.0)\n",
            "Requirement already satisfied: h5py in /root/miniconda3/envs/py36/lib/python3.6/site-packages (from Keras==2.3.1) (3.1.0)\n",
            "Collecting pyyaml\n",
            "  Downloading PyYAML-6.0-cp36-cp36m-manylinux_2_5_x86_64.manylinux1_x86_64.manylinux_2_12_x86_64.manylinux2010_x86_64.whl (603 kB)\n",
            "Requirement already satisfied: keras-applications>=1.0.6 in /root/miniconda3/envs/py36/lib/python3.6/site-packages (from Keras==2.3.1) (1.0.8)\n",
            "Requirement already satisfied: keras-preprocessing>=1.0.5 in /root/miniconda3/envs/py36/lib/python3.6/site-packages (from Keras==2.3.1) (1.1.2)\n",
            "Collecting scipy>=0.14\n",
            "  Downloading scipy-1.5.4-cp36-cp36m-manylinux1_x86_64.whl (25.9 MB)\n",
            "Requirement already satisfied: numpy>=1.9.1 in /root/miniconda3/envs/py36/lib/python3.6/site-packages (from Keras==2.3.1) (1.19.5)\n",
            "Requirement already satisfied: cached-property in /root/miniconda3/envs/py36/lib/python3.6/site-packages (from h5py->Keras==2.3.1) (1.5.2)\n",
            "Installing collected packages: scipy, pyyaml, Keras\n",
            "Successfully installed Keras-2.3.1 pyyaml-6.0 scipy-1.5.4\n"
          ]
        },
        {
          "output_type": "stream",
          "name": "stderr",
          "text": [
            "WARNING: Running pip as the 'root' user can result in broken permissions and conflicting behaviour with the system package manager. It is recommended to use a virtual environment instead: https://pip.pypa.io/warnings/venv\n"
          ]
        }
      ]
    },
    {
      "cell_type": "code",
      "source": [
        "%%bash\n",
        "source activate py36 && pip install scikit-learn==0.21.3"
      ],
      "metadata": {
        "colab": {
          "base_uri": "https://localhost:8080/"
        },
        "id": "1IdI4XUSR9iw",
        "outputId": "bd27f6ff-4150-4e07-fe40-a2641ccdcfa1"
      },
      "execution_count": 36,
      "outputs": [
        {
          "output_type": "stream",
          "name": "stdout",
          "text": [
            "Collecting scikit-learn==0.21.3\n",
            "  Downloading scikit_learn-0.21.3-cp36-cp36m-manylinux1_x86_64.whl (6.7 MB)\n",
            "Requirement already satisfied: scipy>=0.17.0 in /root/miniconda3/envs/py36/lib/python3.6/site-packages (from scikit-learn==0.21.3) (1.5.4)\n",
            "Collecting joblib>=0.11\n",
            "  Downloading joblib-1.1.0-py2.py3-none-any.whl (306 kB)\n",
            "Requirement already satisfied: numpy>=1.11.0 in /root/miniconda3/envs/py36/lib/python3.6/site-packages (from scikit-learn==0.21.3) (1.19.5)\n",
            "Installing collected packages: joblib, scikit-learn\n",
            "Successfully installed joblib-1.1.0 scikit-learn-0.21.3\n"
          ]
        },
        {
          "output_type": "stream",
          "name": "stderr",
          "text": [
            "WARNING: Running pip as the 'root' user can result in broken permissions and conflicting behaviour with the system package manager. It is recommended to use a virtual environment instead: https://pip.pypa.io/warnings/venv\n"
          ]
        }
      ]
    }
  ]
}